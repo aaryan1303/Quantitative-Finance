{
 "cells": [
  {
   "cell_type": "markdown",
   "id": "3fc00e6c",
   "metadata": {},
   "source": [
    "# <div align=\"center\"> Why Log Returns are better than Percentage Returns </div>"
   ]
  },
  {
   "cell_type": "code",
   "execution_count": 4,
   "id": "32761fa9",
   "metadata": {},
   "outputs": [],
   "source": [
    "#Importing Libraries\n",
    "\n",
    "import pandas as pd\n",
    "import numpy as np\n",
    "import datetime as dt\n",
    "import matplotlib.pyplot as plt\n",
    "import yfinance as yf"
   ]
  },
  {
   "cell_type": "code",
   "execution_count": 5,
   "id": "b66457eb",
   "metadata": {},
   "outputs": [
    {
     "name": "stdout",
     "output_type": "stream",
     "text": [
      "       Stock Price\n",
      "Day 1          100\n",
      "Day 2          120\n",
      "Day 3           96\n",
      "\n",
      "       Stock Price\n",
      "Day 1          NaN\n",
      "Day 2          0.2\n",
      "Day 3         -0.2\n",
      "\n",
      "Total Change without log =  0.0 %\n",
      "\n",
      "       Stock Price\n",
      "Day 1          NaN\n",
      "Day 2         0.18\n",
      "Day 3        -0.22\n",
      "\n",
      "Total Change with log =  -4.0 % \n"
     ]
    }
   ],
   "source": [
    "stock_data = pd.DataFrame([100,120,96], index=[\"Day 1\",\"Day 2\",\"Day 3\"], columns=[\"Stock Price\"])\n",
    "print (stock_data)\n",
    "print()\n",
    "\n",
    "returns = stock_data.pct_change()\n",
    "print (returns)\n",
    "print ()\n",
    "print(\"Total Change without log = \",returns.iloc[1,0] + returns.iloc[2,0], \"%\")\n",
    "print()\n",
    "\n",
    "log_returns = round(np.log(1+returns),2)\n",
    "print (log_returns)\n",
    "print()\n",
    "\n",
    "print(\"Total Change with log = \",round((log_returns.iloc[1,0] + log_returns.iloc[2,0])*100,2), \"%\", \"\")\n"
   ]
  },
  {
   "cell_type": "markdown",
   "id": "2df0fb1f",
   "metadata": {},
   "source": [
    "## <span style='color:green'> As we can see from the data that after 2 days, the stock price has decreased from 100 to 96, an 4% decrease. It is not shown by the normal percantage return, however, log returns correctly takes it into affect. </span>"
   ]
  }
 ],
 "metadata": {
  "kernelspec": {
   "display_name": "Python 3 (ipykernel)",
   "language": "python",
   "name": "python3"
  },
  "language_info": {
   "codemirror_mode": {
    "name": "ipython",
    "version": 3
   },
   "file_extension": ".py",
   "mimetype": "text/x-python",
   "name": "python",
   "nbconvert_exporter": "python",
   "pygments_lexer": "ipython3",
   "version": "3.9.12"
  }
 },
 "nbformat": 4,
 "nbformat_minor": 5
}
