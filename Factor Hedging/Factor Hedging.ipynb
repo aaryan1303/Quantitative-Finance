{
 "cells": [
  {
   "cell_type": "markdown",
   "id": "53b08d59",
   "metadata": {},
   "source": [
    "# <div align=\"center\"> Generating Market Neutral Portfolios/ Portfolio without Market Risk/ Market Risk Hedged Portfolio </div>"
   ]
  },
  {
   "cell_type": "code",
   "execution_count": 1,
   "id": "01fcce82",
   "metadata": {},
   "outputs": [],
   "source": [
    "#Importing Libraries\n",
    "import yfinance as yf\n",
    "import pandas as pd\n",
    "import numpy as np\n",
    "import datetime as dt\n",
    "import matplotlib.pyplot as plt\n",
    "import statsmodels.api as sm"
   ]
  },
  {
   "cell_type": "code",
   "execution_count": 3,
   "id": "6ea2e09a",
   "metadata": {},
   "outputs": [],
   "source": [
    "#Putting inputs for stock data and S&P500\n",
    "tickers = tickers = [\"VRSN\", \"ATVi\", \"MCO\",\"AAPL\",\"TSLA\",\"SPY\"]\n",
    "start = dt.datetime(2020,1,1)\n",
    "end = dt.datetime(2022,11,28)"
   ]
  },
  {
   "cell_type": "code",
   "execution_count": 4,
   "id": "e8cec220",
   "metadata": {},
   "outputs": [
    {
     "name": "stdout",
     "output_type": "stream",
     "text": [
      "[*********************100%***********************]  1 of 1 completed\n",
      "[*********************100%***********************]  1 of 1 completed\n",
      "[*********************100%***********************]  1 of 1 completed\n",
      "[*********************100%***********************]  1 of 1 completed\n",
      "[*********************100%***********************]  1 of 1 completed\n",
      "[*********************100%***********************]  1 of 1 completed\n"
     ]
    }
   ],
   "source": [
    "#Loading Stock Data and calculatings its returns\n",
    "Price = pd.DataFrame()\n",
    "for t in tickers:\n",
    "    Price[t] = yf.download(t,start,end)[\"Adj Close\"]\n",
    "Re = Price.pct_change()\n",
    "Re = Re.loc[~(Re==0).all(axis=1)]\n",
    "Re= Re.dropna()\n"
   ]
  },
  {
   "cell_type": "code",
   "execution_count": 5,
   "id": "e5e2ee26",
   "metadata": {},
   "outputs": [
    {
     "data": {
      "text/html": [
       "<div>\n",
       "<style scoped>\n",
       "    .dataframe tbody tr th:only-of-type {\n",
       "        vertical-align: middle;\n",
       "    }\n",
       "\n",
       "    .dataframe tbody tr th {\n",
       "        vertical-align: top;\n",
       "    }\n",
       "\n",
       "    .dataframe thead th {\n",
       "        text-align: right;\n",
       "    }\n",
       "</style>\n",
       "<table border=\"1\" class=\"dataframe\">\n",
       "  <thead>\n",
       "    <tr style=\"text-align: right;\">\n",
       "      <th></th>\n",
       "      <th>VRSN</th>\n",
       "      <th>ATVi</th>\n",
       "      <th>MCO</th>\n",
       "      <th>AAPL</th>\n",
       "      <th>TSLA</th>\n",
       "      <th>SPY</th>\n",
       "    </tr>\n",
       "    <tr>\n",
       "      <th>Date</th>\n",
       "      <th></th>\n",
       "      <th></th>\n",
       "      <th></th>\n",
       "      <th></th>\n",
       "      <th></th>\n",
       "      <th></th>\n",
       "    </tr>\n",
       "  </thead>\n",
       "  <tbody>\n",
       "    <tr>\n",
       "      <th>2020-01-03</th>\n",
       "      <td>0.021095</td>\n",
       "      <td>0.000341</td>\n",
       "      <td>-0.002482</td>\n",
       "      <td>-0.009722</td>\n",
       "      <td>0.029633</td>\n",
       "      <td>-0.007572</td>\n",
       "    </tr>\n",
       "    <tr>\n",
       "      <th>2020-01-06</th>\n",
       "      <td>0.009259</td>\n",
       "      <td>0.018238</td>\n",
       "      <td>0.003110</td>\n",
       "      <td>0.007968</td>\n",
       "      <td>0.019255</td>\n",
       "      <td>0.003815</td>\n",
       "    </tr>\n",
       "    <tr>\n",
       "      <th>2020-01-07</th>\n",
       "      <td>0.002318</td>\n",
       "      <td>0.010044</td>\n",
       "      <td>-0.003597</td>\n",
       "      <td>-0.004703</td>\n",
       "      <td>0.038801</td>\n",
       "      <td>-0.002812</td>\n",
       "    </tr>\n",
       "    <tr>\n",
       "      <th>2020-01-08</th>\n",
       "      <td>0.004626</td>\n",
       "      <td>-0.007623</td>\n",
       "      <td>0.019170</td>\n",
       "      <td>0.016086</td>\n",
       "      <td>0.049205</td>\n",
       "      <td>0.005330</td>\n",
       "    </tr>\n",
       "    <tr>\n",
       "      <th>2020-01-09</th>\n",
       "      <td>0.023169</td>\n",
       "      <td>-0.009018</td>\n",
       "      <td>0.013150</td>\n",
       "      <td>0.021241</td>\n",
       "      <td>-0.021945</td>\n",
       "      <td>0.006780</td>\n",
       "    </tr>\n",
       "  </tbody>\n",
       "</table>\n",
       "</div>"
      ],
      "text/plain": [
       "                VRSN      ATVi       MCO      AAPL      TSLA       SPY\n",
       "Date                                                                  \n",
       "2020-01-03  0.021095  0.000341 -0.002482 -0.009722  0.029633 -0.007572\n",
       "2020-01-06  0.009259  0.018238  0.003110  0.007968  0.019255  0.003815\n",
       "2020-01-07  0.002318  0.010044 -0.003597 -0.004703  0.038801 -0.002812\n",
       "2020-01-08  0.004626 -0.007623  0.019170  0.016086  0.049205  0.005330\n",
       "2020-01-09  0.023169 -0.009018  0.013150  0.021241 -0.021945  0.006780"
      ]
     },
     "execution_count": 5,
     "metadata": {},
     "output_type": "execute_result"
    }
   ],
   "source": [
    "Re.head()"
   ]
  },
  {
   "cell_type": "markdown",
   "id": "3a085817",
   "metadata": {},
   "source": [
    "### Performing regression for each stock with S&P500"
   ]
  },
  {
   "cell_type": "code",
   "execution_count": 7,
   "id": "1a6ad376",
   "metadata": {},
   "outputs": [],
   "source": [
    "#Here, we run the regression of each stock with the market and then put the results in the dataframe 'Regression_results' \n",
    "#\"Regression_result\" is a dataframe containing alpha and beta of each regressed stock.\n",
    "\n",
    "Regression_results = pd.DataFrame([], columns=[\"Alpha\",\"Beta\"], index=tickers[:-1])\n",
    "for stock in Regression_results.index:\n",
    "    temp = Re.copy()\n",
    "    x= sm.add_constant(temp[\"SPY\"])\n",
    "    y = temp[str(stock)]\n",
    "    results = sm.OLS(y,x).fit()\n",
    "    Regression_results.loc[stock,\"Alpha\"] = results.params[0]\n",
    "    Regression_results.loc[stock,\"Beta\"] = results.params[1]"
   ]
  },
  {
   "cell_type": "code",
   "execution_count": 8,
   "id": "a034c724",
   "metadata": {},
   "outputs": [
    {
     "data": {
      "text/html": [
       "<div>\n",
       "<style scoped>\n",
       "    .dataframe tbody tr th:only-of-type {\n",
       "        vertical-align: middle;\n",
       "    }\n",
       "\n",
       "    .dataframe tbody tr th {\n",
       "        vertical-align: top;\n",
       "    }\n",
       "\n",
       "    .dataframe thead th {\n",
       "        text-align: right;\n",
       "    }\n",
       "</style>\n",
       "<table border=\"1\" class=\"dataframe\">\n",
       "  <thead>\n",
       "    <tr style=\"text-align: right;\">\n",
       "      <th></th>\n",
       "      <th>Alpha</th>\n",
       "      <th>Beta</th>\n",
       "    </tr>\n",
       "  </thead>\n",
       "  <tbody>\n",
       "    <tr>\n",
       "      <th>VRSN</th>\n",
       "      <td>-0.00025</td>\n",
       "      <td>1.005427</td>\n",
       "    </tr>\n",
       "    <tr>\n",
       "      <th>ATVi</th>\n",
       "      <td>0.000306</td>\n",
       "      <td>0.524829</td>\n",
       "    </tr>\n",
       "    <tr>\n",
       "      <th>MCO</th>\n",
       "      <td>0.000031</td>\n",
       "      <td>1.213247</td>\n",
       "    </tr>\n",
       "    <tr>\n",
       "      <th>AAPL</th>\n",
       "      <td>0.00065</td>\n",
       "      <td>1.211839</td>\n",
       "    </tr>\n",
       "    <tr>\n",
       "      <th>TSLA</th>\n",
       "      <td>0.002851</td>\n",
       "      <td>1.489047</td>\n",
       "    </tr>\n",
       "  </tbody>\n",
       "</table>\n",
       "</div>"
      ],
      "text/plain": [
       "         Alpha      Beta\n",
       "VRSN  -0.00025  1.005427\n",
       "ATVi  0.000306  0.524829\n",
       "MCO   0.000031  1.213247\n",
       "AAPL   0.00065  1.211839\n",
       "TSLA  0.002851  1.489047"
      ]
     },
     "execution_count": 8,
     "metadata": {},
     "output_type": "execute_result"
    }
   ],
   "source": [
    "#The alpha and beta of each stock with S&P500\n",
    "Regression_results"
   ]
  },
  {
   "cell_type": "markdown",
   "id": "078a7e22",
   "metadata": {},
   "source": [
    "Alpha is the abnormal return that we get by investing in the specified stock instead of market.\n",
    "\n",
    "Beta is how the stock is moving in respect to the market."
   ]
  },
  {
   "cell_type": "code",
   "execution_count": 34,
   "id": "875e1991",
   "metadata": {},
   "outputs": [],
   "source": [
    "#Here, we perform the hedge of each stock with market to create a market neutral portfolio and generate the alpha from the stock\n",
    "#The hedged portfolio is again regressed with the market to analyse the hedged portfolio results and how it is working.\n",
    "#Hedged portfolio regression results are in the \"Hedged_portfolio\" dataframe which contains various other elements as well.\n",
    "\n",
    "Hedged_portfolio = pd.DataFrame([], columns=[\"Alpha\", \"Beta\",\"Stock Average Return\",\"Stock Volatility\",\"Stock Sharpe Ratio\",\"Hedged_P Average Return\",\"Hedged_P Volatility\", \"Hedged_P SR (Apraisal Ratio)\"], index=tickers[:-1])\n",
    "\n",
    "for stock in Hedged_portfolio.index:\n",
    "    temp = Re.copy()\n",
    "    portfolio = temp[stock]\n",
    "    MKT = temp[\"SPY\"]\n",
    "    tracking = Regression_results.loc[stock,\"Beta\"]*MKT\n",
    "    hedged = portfolio - tracking\n",
    "    Hedged_portfolio.at[stock,\"Hedged_P Average Return\"] = hedged.mean() * 252\n",
    "    Hedged_portfolio.at[stock,\"Hedged_P Volatility\"] = hedged.std() * (252**0.5)\n",
    "    Hedged_portfolio.at[stock,\"Hedged_P SR (Apraisal Ratio)\"] = hedged.mean()/hedged.std() * (252**0.5)\n",
    "    Hedged_portfolio.at[stock,\"Stock Average Return\"] = portfolio.mean() * 252\n",
    "    Hedged_portfolio.at[stock,\"Stock Volatility\"] = portfolio.std() * (252**0.5)\n",
    "    Hedged_portfolio.at[stock,\"Stock Sharpe Ratio\"] = temp[stock].mean()/temp[stock].std() *(252**0.5)\n",
    "    x = sm.add_constant(temp[\"SPY\"])\n",
    "    y = hedged\n",
    "    results = sm.OLS(y,x).fit()\n",
    "    Hedged_portfolio.loc[stock,\"Alpha\"] = results.params[0]*252\n",
    "    Hedged_portfolio.loc[stock,\"Beta\"] = abs(results.params[1])"
   ]
  },
  {
   "cell_type": "code",
   "execution_count": 35,
   "id": "ea690556",
   "metadata": {},
   "outputs": [],
   "source": [
    "for i in Hedged_portfolio.columns:\n",
    "    Hedged_portfolio[i]=pd.to_numeric(Hedged_portfolio[i])\n",
    "    Hedged_portfolio[i] = round(Hedged_portfolio[i],3)"
   ]
  },
  {
   "cell_type": "code",
   "execution_count": 36,
   "id": "3e3dc451",
   "metadata": {},
   "outputs": [
    {
     "data": {
      "text/html": [
       "<div>\n",
       "<style scoped>\n",
       "    .dataframe tbody tr th:only-of-type {\n",
       "        vertical-align: middle;\n",
       "    }\n",
       "\n",
       "    .dataframe tbody tr th {\n",
       "        vertical-align: top;\n",
       "    }\n",
       "\n",
       "    .dataframe thead th {\n",
       "        text-align: right;\n",
       "    }\n",
       "</style>\n",
       "<table border=\"1\" class=\"dataframe\">\n",
       "  <thead>\n",
       "    <tr style=\"text-align: right;\">\n",
       "      <th></th>\n",
       "      <th>Alpha</th>\n",
       "      <th>Beta</th>\n",
       "      <th>Stock Average Return</th>\n",
       "      <th>Stock Volatility</th>\n",
       "      <th>Stock Sharpe Ratio</th>\n",
       "      <th>Hedged_P Average Return</th>\n",
       "      <th>Hedged_P Volatility</th>\n",
       "      <th>Hedged_P SR (Apraisal Ratio)</th>\n",
       "    </tr>\n",
       "  </thead>\n",
       "  <tbody>\n",
       "    <tr>\n",
       "      <th>VRSN</th>\n",
       "      <td>-0.063</td>\n",
       "      <td>0.0</td>\n",
       "      <td>0.058</td>\n",
       "      <td>0.330</td>\n",
       "      <td>0.176</td>\n",
       "      <td>-0.063</td>\n",
       "      <td>0.211</td>\n",
       "      <td>-0.298</td>\n",
       "    </tr>\n",
       "    <tr>\n",
       "      <th>ATVi</th>\n",
       "      <td>0.077</td>\n",
       "      <td>0.0</td>\n",
       "      <td>0.140</td>\n",
       "      <td>0.341</td>\n",
       "      <td>0.412</td>\n",
       "      <td>0.077</td>\n",
       "      <td>0.314</td>\n",
       "      <td>0.245</td>\n",
       "    </tr>\n",
       "    <tr>\n",
       "      <th>MCO</th>\n",
       "      <td>0.008</td>\n",
       "      <td>0.0</td>\n",
       "      <td>0.154</td>\n",
       "      <td>0.374</td>\n",
       "      <td>0.412</td>\n",
       "      <td>0.008</td>\n",
       "      <td>0.216</td>\n",
       "      <td>0.036</td>\n",
       "    </tr>\n",
       "    <tr>\n",
       "      <th>AAPL</th>\n",
       "      <td>0.164</td>\n",
       "      <td>0.0</td>\n",
       "      <td>0.310</td>\n",
       "      <td>0.370</td>\n",
       "      <td>0.837</td>\n",
       "      <td>0.164</td>\n",
       "      <td>0.210</td>\n",
       "      <td>0.779</td>\n",
       "    </tr>\n",
       "    <tr>\n",
       "      <th>TSLA</th>\n",
       "      <td>0.718</td>\n",
       "      <td>0.0</td>\n",
       "      <td>0.898</td>\n",
       "      <td>0.720</td>\n",
       "      <td>1.248</td>\n",
       "      <td>0.718</td>\n",
       "      <td>0.615</td>\n",
       "      <td>1.169</td>\n",
       "    </tr>\n",
       "  </tbody>\n",
       "</table>\n",
       "</div>"
      ],
      "text/plain": [
       "      Alpha  Beta  Stock Average Return  Stock Volatility  Stock Sharpe Ratio  \\\n",
       "VRSN -0.063   0.0                 0.058             0.330               0.176   \n",
       "ATVi  0.077   0.0                 0.140             0.341               0.412   \n",
       "MCO   0.008   0.0                 0.154             0.374               0.412   \n",
       "AAPL  0.164   0.0                 0.310             0.370               0.837   \n",
       "TSLA  0.718   0.0                 0.898             0.720               1.248   \n",
       "\n",
       "      Hedged_P Average Return  Hedged_P Volatility  \\\n",
       "VRSN                   -0.063                0.211   \n",
       "ATVi                    0.077                0.314   \n",
       "MCO                     0.008                0.216   \n",
       "AAPL                    0.164                0.210   \n",
       "TSLA                    0.718                0.615   \n",
       "\n",
       "      Hedged_P SR (Apraisal Ratio)  \n",
       "VRSN                        -0.298  \n",
       "ATVi                         0.245  \n",
       "MCO                          0.036  \n",
       "AAPL                         0.779  \n",
       "TSLA                         1.169  "
      ]
     },
     "execution_count": 36,
     "metadata": {},
     "output_type": "execute_result"
    }
   ],
   "source": [
    "Hedged_portfolio"
   ]
  },
  {
   "cell_type": "markdown",
   "id": "45085cfd",
   "metadata": {},
   "source": [
    "### <span style='color:green'> • As we can see, Beta = 0 , which means it is a market neutral portfolio. <br> • If we invest in this hedged portfolio, we can earn the alpha of this stock <br> • Apprial Ratio tells the effectiveness of investing in a hedged portfolio to generate the given alpha <br> • Also, the alpha of the portfolio should be equal to hedged portfolio average returns as shown by the table as well <br> • The volatility and avg returns are lesser in the hedged portfolio as we have eliminated the effect of market (systematic risk) from the portfolio. <br> </span>"
   ]
  }
 ],
 "metadata": {
  "kernelspec": {
   "display_name": "Python 3 (ipykernel)",
   "language": "python",
   "name": "python3"
  },
  "language_info": {
   "codemirror_mode": {
    "name": "ipython",
    "version": 3
   },
   "file_extension": ".py",
   "mimetype": "text/x-python",
   "name": "python",
   "nbconvert_exporter": "python",
   "pygments_lexer": "ipython3",
   "version": "3.9.12"
  }
 },
 "nbformat": 4,
 "nbformat_minor": 5
}
